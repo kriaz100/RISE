{
  "nbformat": 4,
  "nbformat_minor": 0,
  "metadata": {
    "colab": {
      "name": "Presenting Python code using RISE.ipynb",
      "provenance": [],
      "collapsed_sections": [],
      "include_colab_link": true
    },
    "kernelspec": {
      "name": "python3",
      "display_name": "Python 3"
    }
  },
  "cells": [
    {
      "cell_type": "markdown",
      "metadata": {
        "id": "view-in-github",
        "colab_type": "text"
      },
      "source": [
        "<a href=\"https://colab.research.google.com/github/kriaz100/RISE/blob/main/Presenting_Python_code_using_RISE.ipynb\" target=\"_parent\"><img src=\"https://colab.research.google.com/assets/colab-badge.svg\" alt=\"Open In Colab\"/></a>"
      ]
    },
    {
      "cell_type": "markdown",
      "metadata": {
        "id": "O80IfnBGxIQ-"
      },
      "source": [
        "# **Presenting Python code using RISE**\n",
        "\n",
        "## **In this article, you will use RISE as a Python jupyter notebook extension for turning it into a live presentation**\n",
        "\n",
        "\n",
        "<img src = \"https://miro.medium.com/max/1050/1*yjEpYdORNyL_EzuXW32U_w.jpeg\">\n",
        "\n",
        "\n",
        "\n",
        "\n",
        "\n"
      ]
    },
    {
      "cell_type": "markdown",
      "metadata": {
        "id": "uXExmJqDy2-M"
      },
      "source": [
        "# **Scenario**\n",
        "\n",
        "Your ***boss/professor*** tells you to ***find the largest number in a Python list*** and present the result in front of the whole employees/classmates. Now there are some rules that you need to follow to impress your boss/professor. They should be able to see both the ***documentation and code*** in this presentation. You should ***execute the code*** too. You may use any ***presentation tool*** of your choice. Now, how would you be able to present your code and ace it at the same time?\n",
        "\n",
        "---\n",
        "\n",
        "\n",
        "# **Solution**\n",
        "\n",
        "\n",
        "The above scenario can be easily tackled with the help of [RISE](https://rise.readthedocs.io/en/stable/index.html) — a Jupyter Notebook plugin, which can convert your `.ipynb` notebooks into a presentation (slideshow).\n",
        "\n",
        "\n",
        "---"
      ]
    },
    {
      "cell_type": "markdown",
      "metadata": {
        "id": "EvM7k7E_zV_k"
      },
      "source": [
        "# **Steps**\n",
        "\n",
        "\n",
        "## **Below are the six steps to present your python code using RISE**\n",
        "\n",
        "\n",
        "1. Write the python ***code/logic*** for the presentation.\n",
        "2. Install Python — later the better.\n",
        "3. Install Jupyter Notebook using the command prompt.\n",
        "4. Install RISE from the command prompt.\n",
        "5. After installing, open the Jupyter Notebook and check for the RISE button on the toggle bar.\n",
        "6. For creating a slide show, click on “***View — Cell Toolbar — Slideshow***”.\n",
        "\n",
        "\n",
        "> Don’t worry, I won’t let you go or leave confused without explaining these steps in a detailed manner. Stay tuned!\n",
        "\n",
        "---"
      ]
    },
    {
      "cell_type": "markdown",
      "metadata": {
        "id": "mZ5CIu-8zt_r"
      },
      "source": [
        "# **An explanation for the above steps**\n",
        "\n",
        "\n",
        "## **1. Write the python code/logic for the presentation**\n",
        "Let’s write the logic of “***find the largest number in a Python list***”. The logic for this will be really minimalistic and easy to understand. Let’s use the below-given algorithm to write the logic:\n",
        "\n",
        "* Create a list of values.\n",
        "* Sort the list using `sort()`.\n",
        "* Print the last element after it is being sorted."
      ]
    },
    {
      "cell_type": "code",
      "metadata": {
        "colab": {
          "base_uri": "https://localhost:8080/"
        },
        "id": "ZqseQY_lz8zj",
        "outputId": "49efa8ec-eec7-4697-e6ad-c05057982d15"
      },
      "source": [
        "# Create a list of values\n",
        "listValues = [-1, 10, -100, -50, 2]\n",
        "# Sorting the list\n",
        "listValues.sort()\n",
        "# Printing the last element\n",
        "print(\"Largest element in the list is:\", listValues[-1])"
      ],
      "execution_count": null,
      "outputs": [
        {
          "output_type": "stream",
          "text": [
            "Largest element in the list is: 10\n"
          ],
          "name": "stdout"
        }
      ]
    },
    {
      "cell_type": "markdown",
      "metadata": {
        "id": "6-fA6jqE0BCd"
      },
      "source": [
        "When you execute the above code you will be prompted by the largest number in the list.\n",
        "\n",
        "---\n"
      ]
    },
    {
      "cell_type": "markdown",
      "metadata": {
        "id": "e2WVLwsW0D6n"
      },
      "source": [
        "## **2. Install Python — the later the better**\n",
        "In this step, you need to download and install Python, but keep in mind the latest version is always the best version. It would be associated with all the additional features and plug-ins, let’s get not very specific here.\n",
        "\n",
        "For windows - Download [here](https://www.python.org/downloads/windows/)\n",
        "\n",
        "\n",
        "### **Video Installation**\n",
        "\n",
        "Click here for the [video](https://www.youtube.com/embed/UvcQlPZ8ecA)"
      ]
    },
    {
      "cell_type": "markdown",
      "metadata": {
        "id": "IO5uNh5J0_8w"
      },
      "source": [
        "> ***Remember***: There might be a billion of ways to install all the below software, one might use [docker](https://www.docker.com/), [anaconda](https://www.anaconda.com/) or, etc. But I wouldn’t be using any of those. Rather, I would follow the traditional methods which would be easy to understand and ace it. Also, in this tutorial, I would provide the installation commands for windows only, if you want to add any commands for other operating systems, comment section is all yours.\n",
        "\n",
        "---\n",
        "\n"
      ]
    },
    {
      "cell_type": "markdown",
      "metadata": {
        "id": "J1osHxJk1L3B"
      },
      "source": [
        "## **3. Install Jupyter Notebook using the command prompt**\n",
        "\n",
        "After downloading Python, navigate to the “***Scripts***” folder as shown below:\n",
        "\n",
        "\n",
        "<img src = \"https://miro.medium.com/max/1050/1*GSEkNGIokhD4mu9L9aR1OA.png\">\n",
        "\n",
        "If you don’t know where to find “Scripts” use the below path, you will get it:\n",
        "\n",
        "\n",
        "```\n",
        "C:\\Users\\*username*\\AppData\\Local\\Programs\\Python\\Python39\\Scripts\n",
        "```\n",
        "\n",
        "\n",
        "**There are two things that you need to take care of:**\n",
        "\n",
        "1. The `username`, in this case, differs. Please double-check this.\n",
        "2. Sometimes, you won’t be able to find `AppData`, so in this case go to the top and click on `View`, and check the box which says `hidden items`.\n",
        "\n",
        "After navigating to the `Scripts` folder. Open the path on your command prompt, or just press Ctrl+A and then type `cmd` and then press Enter, you will be directly navigated to the command prompt from the ***“Scripts”*** path. Use the following command to install Jupyter Notebook from your command prompt.\n",
        "\n",
        "```\n",
        "pip install jupyter notebook\n",
        "```\n",
        "\n",
        "\n",
        "Wait till it is successfully installed. By the way, the next time you want to open Jupyter Notebook, please type `jupyter notebook` to launch it. After opening the Jupyter Notebook to create a new Python notebook, on the right-hand top corner, click on the drop-down menu and then select Python 3 Notebook.\n",
        "\n",
        "### **Video Example**\n",
        "\n",
        "Click here for the [video](https://www.youtube.com/embed/otmWEEFysms)"
      ]
    },
    {
      "cell_type": "markdown",
      "metadata": {
        "id": "dozeObJs2vbY"
      },
      "source": [
        "\n",
        "\n",
        "---\n",
        "\n"
      ]
    },
    {
      "cell_type": "markdown",
      "metadata": {
        "id": "CPy4c_FX2wA3"
      },
      "source": [
        "## **4. Install RISE from the command prompt**\n",
        "After you have installed the Jupyter Notebook, the time has now come to install RISE. Just navigate to your command prompt and type in the below command to install it:\n",
        "\n",
        "```\n",
        "pip install RISE\n",
        "```\n",
        "\n",
        "If you need to read furthermore about RISE then there is no better place than the official docs given below:\n",
        "\n",
        "[RISE 5.7.1](https://rise.readthedocs.io/en/stable/installation.html)\n",
        "\n",
        "---"
      ]
    },
    {
      "cell_type": "markdown",
      "metadata": {
        "id": "3MCyom3a296R"
      },
      "source": [
        "## **5. After installing, open the Jupyter Notebook and check for the RISE button on the toggle bar**\n",
        "Installing RISE will automatically enable the option on the toggle bar as shown below, which clearly says “***Enter/Exit RISE Slideshow***”. This indicates that you have successfully installed RISE on your device.\n",
        "\n",
        "<img src = \"https://miro.medium.com/max/1050/1*k0AP1jX3TP5IXwLNpst_hw.png\">\n",
        "\n",
        "---"
      ]
    },
    {
      "cell_type": "markdown",
      "metadata": {
        "id": "Mlxj-IJm3GqK"
      },
      "source": [
        "## **6. For creating a slide show, click on “View — Cell Toolbar — Slideshow”**\n",
        "Lastly, when your Python code and the documentation is ready, it’s time to present it. To present it click on the same RISE button it will automatically open your code in a presentation mode, meaning like a slide show as shown below:\n",
        "\n",
        "[Slide Show](https://miro.medium.com/max/1050/1*tTseBgtxHLuJSvx6g_cCXw.gif)\n",
        "\n",
        "\n",
        "\n",
        "\n",
        "\n",
        "Now if you need to edit your slides, or change their “***Slide Type***”, you need to navigate to “***View — Cell Toolbar — Slideshow***”. If you want to come out of this mode, select ***“None”*** from the same dropdown.\n",
        "\n",
        "<img src = \"https://miro.medium.com/max/1050/1*DHBA-aFCAjI0dFFsFHkYPA.png\">\n",
        "\n",
        "\n",
        "Currently, there are 5 different types of slides as shown below, you can choose from them, go ahead and try it out.\n",
        "\n",
        "> ***Note***: You can independently choose a different slide type for every cell. Thanks to RISE.\n",
        "\n",
        "<img src = \"https://miro.medium.com/max/1050/1*DMYZKF96g7NOeTmqXFtpvw.png\">\n",
        "\n",
        "\n",
        "\n",
        "\n",
        "### **Video Example**\n",
        "\n",
        "Click here for the [video](https://www.youtube.com/embed/utNl9f3gqYQ)\n",
        "\n"
      ]
    },
    {
      "cell_type": "markdown",
      "metadata": {
        "id": "Alzqvxbr3_sX"
      },
      "source": [
        "# **Conclusion**\n",
        "You have reached the end of this article “***Presenting Python code using RISE***”. I hope you guys have learned a thing or two from this tutorial. Suggestions are always welcomed here. If you have/facing any issues during installations, comment down below. I will respond ASAP. Until then, nail your Python code presentations, show them who is the boss in presentations. Stay tuned for more updates. Have a nice day!\n",
        "\n",
        "---"
      ]
    }
  ]
}